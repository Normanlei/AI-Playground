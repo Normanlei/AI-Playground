{
 "cells": [
  {
   "cell_type": "code",
   "execution_count": 2,
   "metadata": {},
   "outputs": [],
   "source": [
    "# package import\n",
    "from transformers import AutoModel,AutoTokenizer, AutoModelForCausalLM,pipeline\n",
    "from datasets import load_dataset,load_from_disk\n",
    "import torch\n",
    "import pandas as pd"
   ]
  },
  {
   "cell_type": "code",
   "execution_count": 3,
   "metadata": {},
   "outputs": [
    {
     "data": {
      "application/vnd.jupyter.widget-view+json": {
       "model_id": "b36a9d57b7dd40d6978e8355769fbf4d",
       "version_major": 2,
       "version_minor": 0
      },
      "text/plain": [
       "config.json:   0%|          | 0.00/570 [00:00<?, ?B/s]"
      ]
     },
     "metadata": {},
     "output_type": "display_data"
    },
    {
     "data": {
      "application/vnd.jupyter.widget-view+json": {
       "model_id": "aad47307587b47a9be69e41d361d9521",
       "version_major": 2,
       "version_minor": 0
      },
      "text/plain": [
       "model.safetensors:   0%|          | 0.00/440M [00:00<?, ?B/s]"
      ]
     },
     "metadata": {},
     "output_type": "display_data"
    },
    {
     "data": {
      "application/vnd.jupyter.widget-view+json": {
       "model_id": "7da5dfc3714447b7b548c0e2f1554cd7",
       "version_major": 2,
       "version_minor": 0
      },
      "text/plain": [
       "tokenizer_config.json:   0%|          | 0.00/48.0 [00:00<?, ?B/s]"
      ]
     },
     "metadata": {},
     "output_type": "display_data"
    },
    {
     "data": {
      "application/vnd.jupyter.widget-view+json": {
       "model_id": "90e38941f84a4ccca65dda5f5cb5bdc6",
       "version_major": 2,
       "version_minor": 0
      },
      "text/plain": [
       "vocab.txt:   0%|          | 0.00/232k [00:00<?, ?B/s]"
      ]
     },
     "metadata": {},
     "output_type": "display_data"
    },
    {
     "data": {
      "application/vnd.jupyter.widget-view+json": {
       "model_id": "30139814c4d84246b4dfad3881459a9b",
       "version_major": 2,
       "version_minor": 0
      },
      "text/plain": [
       "tokenizer.json:   0%|          | 0.00/466k [00:00<?, ?B/s]"
      ]
     },
     "metadata": {},
     "output_type": "display_data"
    }
   ],
   "source": [
    "# define env variables\n",
    "model_name = \"bert-base-uncased\"\n",
    "cache_dir = \"../model/bert-base-uncased\"\n",
    "\n",
    "# download and load model and tokenizer to specified folder\n",
    "model = AutoModel.from_pretrained(model_name,cache_dir=cache_dir)\n",
    "tokenizer = AutoTokenizer.from_pretrained(model_name,cache_dir=cache_dir)"
   ]
  },
  {
   "cell_type": "code",
   "execution_count": null,
   "metadata": {},
   "outputs": [],
   "source": [
    "# load local model and interact with it\n",
    "DEVICE = torch.device(\"cuda\" if torch.cuda.is_available() else \"cpu\") \n",
    "local_model_dir = \"../model/bert-base-uncased/models--bert-base-uncased/snapshots/86b5e0934494bd15c9632b12f734a8a67f723594\"\n",
    "model_local = AutoModelForCausalLM.from_pretrained(local_model_dir)\n",
    "tokenizer_local = AutoTokenizer.from_pretrained(local_model_dir)\n",
    "generator = pipeline(\"text-generation\",model=model_local,tokenizer=tokenizer_local,device=DEVICE)\n",
    "\n",
    "# print(model)\n",
    "# print(model_local)"
   ]
  },
  {
   "cell_type": "code",
   "execution_count": null,
   "metadata": {},
   "outputs": [
    {
     "name": "stdout",
     "output_type": "stream",
     "text": [
      "[{'generated_text': 'hello, I am an AI lover.........................................'}]\n"
     ]
    }
   ],
   "source": [
    "# generate text with the model\n",
    "output = generator(\n",
    "    \"hello, I am an AI lover\",# prompt\n",
    "    max_length=50,\n",
    "    num_return_sequences=1,\n",
    "    truncation=True,\n",
    "    temperature=0.7, #variation of the prediction\n",
    "    top_k=50, # The number of highest probability vocabulary tokens to keep for top-k-filtering. Between 1 and infinity. Default to 50.\n",
    "    top_p=0.9, # An alternative to top_k, this will sample the smallest set of tokens whose cumulative probability exceeds top_p. So, for example, if top_p is set to 0.9, the model will sample from the most likely tokens until the probability mass exceeds 0.9. Must be between 0 and 1. Default to 1.\n",
    "    clean_up_tokenization_spaces=False\n",
    ")\n",
    "print(output)\n"
   ]
  },
  {
   "cell_type": "code",
   "execution_count": 13,
   "metadata": {},
   "outputs": [
    {
     "name": "stderr",
     "output_type": "stream",
     "text": [
      "Generating train split: 100%|██████████| 25000/25000 [00:00<00:00, 586084.78 examples/s]\n",
      "Generating test split: 100%|██████████| 25000/25000 [00:00<00:00, 464769.60 examples/s]\n",
      "Generating unsupervised split: 100%|██████████| 50000/50000 [00:00<00:00, 484989.32 examples/s]\n"
     ]
    },
    {
     "name": "stdout",
     "output_type": "stream",
     "text": [
      "DatasetDict({\n",
      "    train: Dataset({\n",
      "        features: ['text', 'label'],\n",
      "        num_rows: 25000\n",
      "    })\n",
      "    test: Dataset({\n",
      "        features: ['text', 'label'],\n",
      "        num_rows: 25000\n",
      "    })\n",
      "    unsupervised: Dataset({\n",
      "        features: ['text', 'label'],\n",
      "        num_rows: 50000\n",
      "    })\n",
      "})\n"
     ]
    }
   ],
   "source": [
    "# load dataset imdb\n",
    "dataset_name = 'imdb'\n",
    "dataset = load_dataset(path=dataset_name, cache_dir=\"../dataset/\")\n",
    "print(dataset)\n",
    "# save dataset to csv\n",
    "# Convert the training and testing splits to Pandas DataFrames\n",
    "train_df = pd.DataFrame(dataset[\"train\"])\n",
    "test_df = pd.DataFrame(dataset[\"test\"])\n",
    "\n",
    "# Save the DataFrames to CSV files\n",
    "train_df.to_csv(\"../dataset/imdb_train.csv\", index=False)\n",
    "test_df.to_csv(\"../dataset/imdb_test.csv\", index=False)"
   ]
  },
  {
   "cell_type": "code",
   "execution_count": 3,
   "metadata": {},
   "outputs": [
    {
     "name": "stderr",
     "output_type": "stream",
     "text": [
      "Generating train split: 100%|██████████| 120000/120000 [00:00<00:00, 1454953.65 examples/s]\n",
      "Generating test split: 100%|██████████| 7600/7600 [00:00<00:00, 1221891.69 examples/s]\n"
     ]
    }
   ],
   "source": [
    "# load dataset ag_news\n",
    "dataset_name = 'ag_news'\n",
    "dataset = load_dataset(path=dataset_name)\n",
    "# save dataset to csv\n",
    "# Convert the training and testing splits to Pandas DataFrames\n",
    "train_df = pd.DataFrame(dataset[\"train\"])\n",
    "test_df = pd.DataFrame(dataset[\"test\"])\n",
    "\n",
    "# Save the DataFrames to CSV files\n",
    "train_df.to_csv(\"../dataset/ag_news_train.csv\", index=False)\n",
    "test_df.to_csv(\"../dataset/ag_news_test.csv\", index=False)"
   ]
  },
  {
   "cell_type": "code",
   "execution_count": null,
   "metadata": {},
   "outputs": [],
   "source": [
    "# # load dataset from csv\n",
    "# train_dataset = load_dataset(path=\"csv\",data_files=\"../dataset/imdb_train.csv\", split=\"train\")\n",
    "# test_dataset = load_dataset(path=\"csv\",data_files=\"../dataset/imdb_test.csv\", split=\"train\")\n",
    "\n",
    "# print(train_dataset)\n",
    "# print(test_dataset)\n",
    "# # iterate over the dataset\n",
    "# print(train_dataset[0])\n"
   ]
  }
 ],
 "metadata": {
  "kernelspec": {
   "display_name": "Python 3",
   "language": "python",
   "name": "python3"
  },
  "language_info": {
   "codemirror_mode": {
    "name": "ipython",
    "version": 3
   },
   "file_extension": ".py",
   "mimetype": "text/x-python",
   "name": "python",
   "nbconvert_exporter": "python",
   "pygments_lexer": "ipython3",
   "version": "3.10.12"
  }
 },
 "nbformat": 4,
 "nbformat_minor": 2
}
