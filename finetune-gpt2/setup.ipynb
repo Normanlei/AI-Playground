{
 "cells": [
  {
   "cell_type": "code",
   "execution_count": null,
   "metadata": {},
   "outputs": [],
   "source": [
    "from transformers import AutoModel,AutoTokenizer, TextGenerationPipeline\n",
    "import torch"
   ]
  },
  {
   "cell_type": "code",
   "execution_count": null,
   "metadata": {},
   "outputs": [],
   "source": [
    "# define env variables\n",
    "model_name = \"uer/gpt2-chinese-cluecorpussmall\"\n",
    "cache_dir = \"../model/gpt2-chinese-cluecorpussmall\"\n",
    "\n",
    "# download and load model and tokenizer to specified folder\n",
    "model = AutoModel.from_pretrained(model_name,cache_dir=cache_dir)\n",
    "tokenizer = AutoTokenizer.from_pretrained(model_name,cache_dir=cache_dir)"
   ]
  },
  {
   "cell_type": "code",
   "execution_count": null,
   "metadata": {},
   "outputs": [],
   "source": [
    "\n",
    "\n",
    "DEVICE = torch.device(\"cuda\" if torch.cuda.is_available() else \"cpu\")\n",
    "text_generator = TextGenerationPipeline(model,tokenizer,device=DEVICE)\n",
    "out = text_generator(\"这是很久之前的事情了，\",max_length=100,do_sample=True)\n",
    "print(out)"
   ]
  }
 ],
 "metadata": {
  "kernelspec": {
   "display_name": "Python 3",
   "language": "python",
   "name": "python3"
  },
  "language_info": {
   "codemirror_mode": {
    "name": "ipython",
    "version": 3
   },
   "file_extension": ".py",
   "mimetype": "text/x-python",
   "name": "python",
   "nbconvert_exporter": "python",
   "pygments_lexer": "ipython3",
   "version": "3.10.14"
  }
 },
 "nbformat": 4,
 "nbformat_minor": 2
}
